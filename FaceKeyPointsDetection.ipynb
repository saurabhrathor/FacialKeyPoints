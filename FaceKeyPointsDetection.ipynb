{
  "cells": [
    {
      "metadata": {
        "_uuid": "8f2839f25d086af736a60e9eeb907d3b93b6e0e5",
        "_cell_guid": "b1076dfc-b9ad-4769-8c92-a6c4dae69d19",
        "trusted": true,
        "collapsed": true
      },
      "cell_type": "code",
      "source": "# This Python 3 environment comes with many helpful analytics libraries installed\n# It is defined by the kaggle/python docker image: https://github.com/kaggle/docker-python\n# For example, here's several helpful packages to load in \n\nimport numpy as np # linear algebra\nimport pandas as pd # data processing, CSV file I/O (e.g. pd.read_csv)\n\n# Input data files are available in the \"../input/\" directory.\n# For example, running this (by clicking run or pressing Shift+Enter) will list the files in the input directory\n\nimport os\nprint(os.listdir(\"../input\"))\n\n# Any results you write to the current directory are saved as output.",
      "execution_count": null,
      "outputs": []
    },
    {
      "metadata": {
        "_cell_guid": "79c7e3d0-c299-4dcb-8224-4455121ee9b0",
        "_uuid": "d629ff2d2480ee46fbb7e2d37f6b5fab8052498a",
        "trusted": true,
        "collapsed": true
      },
      "cell_type": "code",
      "source": "print('Loading training ....')\ndata = pd.read_csv('../input/training.csv', error_bad_lines=False)",
      "execution_count": null,
      "outputs": []
    },
    {
      "metadata": {
        "trusted": true,
        "_uuid": "c9db32d32b877eb9847173e3def3bee33a0adac6",
        "collapsed": true
      },
      "cell_type": "code",
      "source": "data.head()",
      "execution_count": null,
      "outputs": []
    },
    {
      "metadata": {
        "trusted": true,
        "_uuid": "e7bde0fd3066712f28ddfec1f25cd8bd126d97f4",
        "collapsed": true
      },
      "cell_type": "code",
      "source": "images = data['Image'].str.split().as_matrix()\n#images = data['Image']",
      "execution_count": null,
      "outputs": []
    },
    {
      "metadata": {
        "trusted": true,
        "_uuid": "c2d65dfa7fc6a0c514defb31483fb878f4983e4e",
        "collapsed": true
      },
      "cell_type": "code",
      "source": "images.shape\n#images.shape\n#data.shape",
      "execution_count": null,
      "outputs": []
    },
    {
      "metadata": {
        "trusted": true,
        "_uuid": "6bd82b5bd2a43c3a4bbdc4aab82a68858ece1a18",
        "collapsed": true
      },
      "cell_type": "code",
      "source": "from math import sqrt\nsqrt(len(images[0]))\nprint(len(images[0]))\nSEQ_LEN = len(images[0])\nprint(images.shape)",
      "execution_count": null,
      "outputs": []
    },
    {
      "metadata": {
        "trusted": true,
        "_uuid": "7378865da89e3d3097e5fb534c603d74aab589a3",
        "collapsed": true
      },
      "cell_type": "code",
      "source": "#input_arr = np.array(7049, 9216)\ninput_arr = np.zeros((7049, 9216))\nx=0\nfor i in images:\n    #ln_arr = np.array((9216))\n    y=0\n    for j in i:\n        input_arr[x,y] = j\n        y=y+1\n    x=x+1\n    #input_arr = np.append(input_arr, ln_arr)",
      "execution_count": null,
      "outputs": []
    },
    {
      "metadata": {
        "trusted": true,
        "_uuid": "f24301a1f050db30eeacb9a5d674d5d8919b37f5",
        "collapsed": true
      },
      "cell_type": "code",
      "source": "input_arr[:3,:20]\n#input_arr = np.reshape(input_arr,(96,96))\nprint(input_arr.shape)\nprint(input_arr[2])\n\n# reshaping in image format\ninput_array = input_arr.reshape((7049,96,96,1))\nprint(input_array.shape)\nprint(input_array[2,-1,:,0])",
      "execution_count": null,
      "outputs": []
    },
    {
      "metadata": {
        "trusted": true,
        "_uuid": "8541a7c8c144469eb8dae1e8d2a4b50eafe5c24f",
        "collapsed": true
      },
      "cell_type": "code",
      "source": "# extracting output data\noutput = data.loc[:, data.columns != 'Image']\n\n#converting to numpy matrix\nnumpy_out = output.as_matrix()\nprint(numpy_out[:2])\nprint(numpy_out.shape)",
      "execution_count": null,
      "outputs": []
    },
    {
      "metadata": {
        "trusted": true,
        "_uuid": "782712bbaf25a782cde2789bd0a7217d4d3a0973",
        "collapsed": true
      },
      "cell_type": "code",
      "source": "# reshaping and splitting in trainging and validation set\n\ninput_train = input_array[:6000, :, :, :]\ninput_val = input_array[6000:, :, :, :]\nout_train = numpy_out[:6000,:]\nout_val = numpy_out[6000:, :]",
      "execution_count": null,
      "outputs": []
    },
    {
      "metadata": {
        "trusted": true,
        "_uuid": "5f2adcff9fdf645336a223591dc722164fef1ab0",
        "collapsed": true
      },
      "cell_type": "code",
      "source": "# Importing keras libraries\nfrom keras.layers import Dense, Input, GlobalMaxPooling1D, Flatten\nfrom keras.layers import Conv1D, MaxPooling2D, Embedding, UpSampling1D, Reshape, Conv2D, Dropout\nfrom keras.models import Model\nfrom keras.models import model_from_json",
      "execution_count": null,
      "outputs": []
    },
    {
      "metadata": {
        "trusted": true,
        "_uuid": "d205c751fe4edce832b1c7b4d35869c9fdc7c1bd",
        "collapsed": true
      },
      "cell_type": "code",
      "source": "# designing Neural Net\nprint('Building model...')\n\n# train a 1D convnet\ninput_ = Input(shape=(96, 96, 1))\nprint('input', input_.shape)\n#x = Reshape((96,96,1))(input_)\nx = Conv2D(nb_filter=100, kernel_size=(4,4), activation='relu' )(input_)\nprint('Conv1', x.shape)\n#x = Dropout(0.4)(x)\nx = MaxPooling2D(pool_size=(2,2), padding='valid')(x)\nprint('Maxpool1', x.shape)\n\n#### Layer2 ####\nx = Conv2D(nb_filter=70, kernel_size=(4,4), activation='relu' )(x)\nprint('Conv2', x.shape)\n#x = Dropout(0.4)(x)\nx = MaxPooling2D(pool_size=(4,4), padding='valid')(x)\nprint('Maxpool2', x.shape)\n\n#### Layer3 ####\nx = Conv2D(nb_filter=30, kernel_size=(4,4), activation='relu' )(x)\nprint('Conv3', x.shape)\n#x = Dropout(0.4)(x)\nx = MaxPooling2D(pool_size=(2,2), padding='valid')(x)\nprint('Maxpool3', x.shape)\n\n## Flatten ###\nx = Flatten()(x)\nprint('Flat', x.shape)\n\nx = Dense(30, input_shape=(120,))(x)\nprint('Dense1', x.shape)\nx = Dense(30, input_shape=(60,))(x)\nprint('Dense2', x.shape)\noutput = Dense(30, input_shape=(30,))(x)\nprint('Dense3', output.shape)\n\n\nmodel = Model(input_, output)\nmodel.summary()\n\nmodel.compile(optimizer='adam', loss='mse',metrics=['acc'])\n",
      "execution_count": null,
      "outputs": []
    },
    {
      "metadata": {
        "trusted": true,
        "_uuid": "6524b769a0ce842c9db5571c638f417577fc6ef0",
        "collapsed": true
      },
      "cell_type": "code",
      "source": "print(input_array.shape)\nprint(numpy_out.shape)\nprint(np.any(np.isnan(input_arr)))",
      "execution_count": null,
      "outputs": []
    },
    {
      "metadata": {
        "trusted": true,
        "_uuid": "664888a68fb0bce6d67cf26bdeb328038ea95cf8",
        "collapsed": true
      },
      "cell_type": "code",
      "source": "batch_size = 100\nepochs = 5\nmodel.fit(input_train, out_train,\n          epochs=epochs,\n          verbose=1,\n        validation_data=(input_val, out_val))",
      "execution_count": null,
      "outputs": []
    },
    {
      "metadata": {
        "trusted": true,
        "_uuid": "91e410e8a434114d4dae812493fe032344d156b7",
        "collapsed": true
      },
      "cell_type": "code",
      "source": "from keras import backend as K\n\n# with a Sequential model\nget_final_layer_output = K.function([model.layers[0].input], [model.layers[10].output])\nlayer_output = get_final_layer_output([input_train])[0]",
      "execution_count": null,
      "outputs": []
    },
    {
      "metadata": {
        "trusted": true,
        "collapsed": true,
        "_uuid": "7075107f8472ce56aa40fdb5e72a0d3c021a974c"
      },
      "cell_type": "code",
      "source": "",
      "execution_count": null,
      "outputs": []
    }
  ],
  "metadata": {
    "kernelspec": {
      "display_name": "Python 3",
      "language": "python",
      "name": "python3"
    },
    "language_info": {
      "name": "python",
      "version": "3.6.6",
      "mimetype": "text/x-python",
      "codemirror_mode": {
        "name": "ipython",
        "version": 3
      },
      "pygments_lexer": "ipython3",
      "nbconvert_exporter": "python",
      "file_extension": ".py"
    }
  },
  "nbformat": 4,
  "nbformat_minor": 1
}